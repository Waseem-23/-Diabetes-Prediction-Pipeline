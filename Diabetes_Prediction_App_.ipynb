{
  "nbformat": 4,
  "nbformat_minor": 0,
  "metadata": {
    "colab": {
      "provenance": []
    },
    "kernelspec": {
      "name": "python3",
      "display_name": "Python 3"
    },
    "language_info": {
      "name": "python"
    }
  },
  "cells": [
    {
      "cell_type": "code",
      "execution_count": 1,
      "metadata": {
        "colab": {
          "base_uri": "https://localhost:8080/",
          "height": 650
        },
        "id": "746zt6PRtBCV",
        "outputId": "4ee0c5e4-df02-48bc-92ca-956c897fd35c"
      },
      "outputs": [
        {
          "output_type": "stream",
          "name": "stdout",
          "text": [
            "It looks like you are running Gradio on a hosted a Jupyter notebook. For the Gradio app to work, sharing must be enabled. Automatically setting `share=True` (you can turn this off by setting `share=False` in `launch()` explicitly).\n",
            "\n",
            "Colab notebook detected. To show errors in colab notebook, set debug=True in launch()\n",
            "* Running on public URL: https://c5d0f5d4eb9be8f881.gradio.live\n",
            "\n",
            "This share link expires in 1 week. For free permanent hosting and GPU upgrades, run `gradio deploy` from the terminal in the working directory to deploy to Hugging Face Spaces (https://huggingface.co/spaces)\n"
          ]
        },
        {
          "output_type": "display_data",
          "data": {
            "text/plain": [
              "<IPython.core.display.HTML object>"
            ],
            "text/html": [
              "<div><iframe src=\"https://c5d0f5d4eb9be8f881.gradio.live\" width=\"100%\" height=\"500\" allow=\"autoplay; camera; microphone; clipboard-read; clipboard-write;\" frameborder=\"0\" allowfullscreen></iframe></div>"
            ]
          },
          "metadata": {}
        },
        {
          "output_type": "execute_result",
          "data": {
            "text/plain": []
          },
          "metadata": {},
          "execution_count": 1
        }
      ],
      "source": [
        "import pandas as pd\n",
        "import numpy as np\n",
        "from sklearn.model_selection import train_test_split\n",
        "from sklearn.preprocessing import StandardScaler\n",
        "from sklearn.linear_model import LogisticRegression\n",
        "from sklearn.neighbors import KNeighborsClassifier\n",
        "from sklearn.metrics import accuracy_score\n",
        "import gradio as gr\n",
        "\n",
        "# Load dataset\n",
        "df = pd.read_csv('/content/diabetes.csv')\n",
        "\n",
        "# Handle invalid zero values\n",
        "cols_with_zeros = ['Glucose', 'BloodPressure', 'SkinThickness', 'Insulin', 'BMI']\n",
        "df[cols_with_zeros] = df[cols_with_zeros].replace(0, np.nan)\n",
        "df.fillna(df.median(numeric_only=True), inplace=True)\n",
        "\n",
        "# Features and target\n",
        "X = df.drop('Outcome', axis=1)\n",
        "y = df['Outcome']\n",
        "\n",
        "# Train-test split and scaling\n",
        "X_train, X_test, y_train, y_test = train_test_split(X, y, test_size=0.2, random_state=42)\n",
        "scaler = StandardScaler()\n",
        "X_train_scaled = scaler.fit_transform(X_train)\n",
        "X_test_scaled = scaler.transform(X_test)\n",
        "\n",
        "# Train models\n",
        "log_reg = LogisticRegression()\n",
        "knn = KNeighborsClassifier(n_neighbors=5)\n",
        "log_reg.fit(X_train_scaled, y_train)\n",
        "knn.fit(X_train_scaled, y_train)\n",
        "\n",
        "# Gradio prediction function\n",
        "def predict_diabetes(Pregnancies, Glucose, BloodPressure, SkinThickness, Insulin,\n",
        "                     BMI, DiabetesPedigreeFunction, Age, model_type):\n",
        "    input_data = np.array([[Pregnancies, Glucose, BloodPressure, SkinThickness,\n",
        "                            Insulin, BMI, DiabetesPedigreeFunction, Age]])\n",
        "    input_scaled = scaler.transform(input_data)\n",
        "\n",
        "    if model_type == \"Logistic Regression\":\n",
        "        pred = log_reg.predict(input_scaled)[0]\n",
        "    else:\n",
        "        pred = knn.predict(input_scaled)[0]\n",
        "\n",
        "    return \"Diabetic\" if pred == 1 else \"Not Diabetic\"\n",
        "\n",
        "# Define Gradio interface\n",
        "inputs = [\n",
        "    gr.Number(label=\"Pregnancies\"),\n",
        "    gr.Number(label=\"Glucose\"),\n",
        "    gr.Number(label=\"BloodPressure\"),\n",
        "    gr.Number(label=\"SkinThickness\"),\n",
        "    gr.Number(label=\"Insulin\"),\n",
        "    gr.Number(label=\"BMI\"),\n",
        "    gr.Number(label=\"DiabetesPedigreeFunction\"),\n",
        "    gr.Number(label=\"Age\"),\n",
        "    gr.Radio([\"Logistic Regression\", \"KNN\"], label=\"Choose Model\")\n",
        "]\n",
        "\n",
        "outputs = gr.Text(label=\"Prediction\")\n",
        "\n",
        "app = gr.Interface(fn=predict_diabetes, inputs=inputs, outputs=outputs, title=\"Diabetes Prediction App\")\n",
        "app.launch()\n"
      ]
    }
  ]
}